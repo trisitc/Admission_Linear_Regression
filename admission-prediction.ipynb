{
 "metadata": {
  "kernelspec": {
   "language": "python",
   "display_name": "Python 3",
   "name": "python3"
  },
  "language_info": {
   "pygments_lexer": "ipython3",
   "nbconvert_exporter": "python",
   "version": "3.6.4",
   "file_extension": ".py",
   "codemirror_mode": {
    "name": "ipython",
    "version": 3
   },
   "name": "python",
   "mimetype": "text/x-python"
  }
 },
 "nbformat_minor": 4,
 "nbformat": 4,
 "cells": [
  {
   "cell_type": "code",
   "source": [
    "# This Python 3 environment comes with many helpful analytics libraries installed\n",
    "# It is defined by the kaggle/python Docker image: https://github.com/kaggle/docker-python\n",
    "# For example, here's several helpful packages to load\n",
    "\n",
    "# import numpy as np # linear algebra\n",
    "# import pandas as pd # data processing, CSV file I/O (e.g. pd.read_csv)\n",
    "\n",
    "# Input data files are available in the read-only \"../input/\" directory\n",
    "# For example, running this (by clicking run or pressing Shift+Enter) will list all files under the input directory\n",
    "\n",
    "import os\n",
    "# for dirname, _, filenames in os.walk('/kaggle/input'):\n",
    "#     for filename in filenames:\n",
    "#         print(os.path.join(dirname, filename))\n",
    "\n",
    "# You can write up to 20GB to the current directory (/kaggle/working/) that gets preserved as output when you create a version using \"Save & Run All\" \n",
    "# You can also write temporary files to /kaggle/temp/, but they won't be saved outside of the current session"
   ],
   "metadata": {
    "_uuid": "8f2839f25d086af736a60e9eeb907d3b93b6e0e5",
    "_cell_guid": "b1076dfc-b9ad-4769-8c92-a6c4dae69d19",
    "execution": {
     "iopub.status.busy": "2021-09-25T16:32:31.8108Z",
     "iopub.execute_input": "2021-09-25T16:32:31.811365Z",
     "iopub.status.idle": "2021-09-25T16:32:31.84979Z",
     "shell.execute_reply.started": "2021-09-25T16:32:31.811279Z",
     "shell.execute_reply": "2021-09-25T16:32:31.849015Z"
    },
    "trusted": true
   },
   "execution_count": null,
   "outputs": []
  },
  {
   "cell_type": "code",
   "source": [
    "import numpy as np\n",
    "import pandas as pd\n",
    "# import matplotlib.pyplot as plt\n",
    "# import seaborn as sns\n",
    "import pickle\n",
    "from sklearn.preprocessing import StandardScaler\n",
    "from sklearn.model_selection import train_test_split\n",
    "from sklearn.linear_model import Ridge, Lasso, RidgeCV, LarsCV, ElasticNet, ElasticNetCV, LinearRegression, LassoCV\n",
    "# import statsmodels.api as sm\n",
    "# from pandas_profiling import ProfileReport"
   ],
   "metadata": {
    "execution": {
     "iopub.status.busy": "2021-09-25T16:32:31.851305Z",
     "iopub.execute_input": "2021-09-25T16:32:31.851525Z",
     "iopub.status.idle": "2021-09-25T16:32:34.630426Z",
     "shell.execute_reply.started": "2021-09-25T16:32:31.8515Z",
     "shell.execute_reply": "2021-09-25T16:32:34.629756Z"
    },
    "trusted": true
   },
   "execution_count": null,
   "outputs": []
  },
  {
   "cell_type": "code",
   "source": [
    "# df1 = pd.read_csv('../input/graduate-admissions/Admission_Predict.csv')\n",
    "# df2 = pd.read_csv('../input/graduate-admissions/Admission_Predict_Ver1.1.csv')\n",
    "df  = pd.read_csv('./Admission_Prediction.csv')"
   ],
   "metadata": {
    "execution": {
     "iopub.status.busy": "2021-09-25T16:32:34.631366Z",
     "iopub.execute_input": "2021-09-25T16:32:34.631962Z",
     "iopub.status.idle": "2021-09-25T16:32:34.646857Z",
     "shell.execute_reply.started": "2021-09-25T16:32:34.631931Z",
     "shell.execute_reply": "2021-09-25T16:32:34.646114Z"
    },
    "trusted": true
   },
   "execution_count": null,
   "outputs": []
  },
  {
   "cell_type": "code",
   "source": "\ndf.head()\n",
   "metadata": {
    "execution": {
     "iopub.status.busy": "2021-09-25T16:32:34.648532Z",
     "iopub.execute_input": "2021-09-25T16:32:34.648901Z",
     "iopub.status.idle": "2021-09-25T16:32:34.674352Z",
     "shell.execute_reply.started": "2021-09-25T16:32:34.648874Z",
     "shell.execute_reply": "2021-09-25T16:32:34.673811Z"
    },
    "trusted": true
   },
   "execution_count": null,
   "outputs": []
  },
  {
   "cell_type": "code",
   "source": "df['University Rating'].mode()",
   "metadata": {
    "execution": {
     "iopub.status.busy": "2021-09-25T16:32:34.675343Z",
     "iopub.execute_input": "2021-09-25T16:32:34.67606Z",
     "iopub.status.idle": "2021-09-25T16:32:34.688895Z",
     "shell.execute_reply.started": "2021-09-25T16:32:34.676015Z",
     "shell.execute_reply": "2021-09-25T16:32:34.687994Z"
    },
    "trusted": true
   },
   "execution_count": null,
   "outputs": []
  },
  {
   "cell_type": "code",
   "source": "pf = ProfileReport(df)\npf.to_widgets()\n",
   "metadata": {
    "execution": {
     "iopub.status.busy": "2021-09-25T16:32:34.68994Z",
     "iopub.execute_input": "2021-09-25T16:32:34.690438Z",
     "iopub.status.idle": "2021-09-25T16:33:12.401365Z",
     "shell.execute_reply.started": "2021-09-25T16:32:34.690408Z",
     "shell.execute_reply": "2021-09-25T16:33:12.400472Z"
    },
    "trusted": true
   },
   "execution_count": null,
   "outputs": []
  },
  {
   "cell_type": "code",
   "source": "# pf_df1 = ProfileReport(df_1)\n# pf_df1.to_widgets()",
   "metadata": {
    "execution": {
     "iopub.status.busy": "2021-09-25T16:33:12.403113Z",
     "iopub.execute_input": "2021-09-25T16:33:12.403365Z",
     "iopub.status.idle": "2021-09-25T16:33:12.408075Z",
     "shell.execute_reply.started": "2021-09-25T16:33:12.403339Z",
     "shell.execute_reply": "2021-09-25T16:33:12.407272Z"
    },
    "trusted": true
   },
   "execution_count": null,
   "outputs": []
  },
  {
   "cell_type": "code",
   "source": "print(df.columns)\nprint(df.isnull().sum())\ndf['GRE Score']         = df['GRE Score'].fillna(df['GRE Score'].mean())\ndf['TOEFL Score']       = df['TOEFL Score'].fillna(df['TOEFL Score'].mean())\ndf['University Rating'] = df['University Rating'].fillna(df['University Rating'].mode()[0])\nprint(df.isnull().sum())",
   "metadata": {
    "execution": {
     "iopub.status.busy": "2021-09-25T16:33:12.409336Z",
     "iopub.execute_input": "2021-09-25T16:33:12.409598Z",
     "iopub.status.idle": "2021-09-25T16:33:12.430588Z",
     "shell.execute_reply.started": "2021-09-25T16:33:12.40957Z",
     "shell.execute_reply": "2021-09-25T16:33:12.429619Z"
    },
    "trusted": true
   },
   "execution_count": null,
   "outputs": []
  },
  {
   "cell_type": "code",
   "source": "x = df[['GRE Score', 'TOEFL Score', 'University Rating', 'SOP','LOR', 'CGPA', 'Research']]\ny = df[['Chance of Admit']]",
   "metadata": {
    "execution": {
     "iopub.status.busy": "2021-09-25T16:33:12.431969Z",
     "iopub.execute_input": "2021-09-25T16:33:12.43219Z",
     "iopub.status.idle": "2021-09-25T16:33:12.438256Z",
     "shell.execute_reply.started": "2021-09-25T16:33:12.432164Z",
     "shell.execute_reply": "2021-09-25T16:33:12.437236Z"
    },
    "trusted": true
   },
   "execution_count": null,
   "outputs": []
  },
  {
   "cell_type": "code",
   "source": "sc     = StandardScaler()\ndata_x = sc.fit_transform(x)\nx_std  = pd.DataFrame(data_x,columns=x.columns)\nx_std.head()",
   "metadata": {
    "execution": {
     "iopub.status.busy": "2021-09-25T16:33:12.44128Z",
     "iopub.execute_input": "2021-09-25T16:33:12.441507Z",
     "iopub.status.idle": "2021-09-25T16:33:12.466776Z",
     "shell.execute_reply.started": "2021-09-25T16:33:12.441481Z",
     "shell.execute_reply": "2021-09-25T16:33:12.46587Z"
    },
    "trusted": true
   },
   "execution_count": null,
   "outputs": []
  },
  {
   "cell_type": "code",
   "source": "data_x.shape",
   "metadata": {
    "execution": {
     "iopub.status.busy": "2021-09-25T16:33:12.468247Z",
     "iopub.execute_input": "2021-09-25T16:33:12.468485Z",
     "iopub.status.idle": "2021-09-25T16:33:12.478633Z",
     "shell.execute_reply.started": "2021-09-25T16:33:12.468458Z",
     "shell.execute_reply": "2021-09-25T16:33:12.477933Z"
    },
    "trusted": true
   },
   "execution_count": null,
   "outputs": []
  },
  {
   "cell_type": "code",
   "source": "from statsmodels.stats.outliers_influence import variance_inflation_factor as vif",
   "metadata": {
    "execution": {
     "iopub.status.busy": "2021-09-25T16:33:12.479897Z",
     "iopub.execute_input": "2021-09-25T16:33:12.480678Z",
     "iopub.status.idle": "2021-09-25T16:33:12.491707Z",
     "shell.execute_reply.started": "2021-09-25T16:33:12.480577Z",
     "shell.execute_reply": "2021-09-25T16:33:12.490921Z"
    },
    "trusted": true
   },
   "execution_count": null,
   "outputs": []
  },
  {
   "cell_type": "code",
   "source": "x_vif = [vif(data_x, i) for i in range(0,data_x.shape[1])]\ndf_vif = pd.DataFrame(x_vif, columns = ['VIF'], index = x_std.columns)\ndf_vif",
   "metadata": {
    "execution": {
     "iopub.status.busy": "2021-09-25T16:33:12.492965Z",
     "iopub.execute_input": "2021-09-25T16:33:12.493728Z",
     "iopub.status.idle": "2021-09-25T16:33:12.516773Z",
     "shell.execute_reply.started": "2021-09-25T16:33:12.493697Z",
     "shell.execute_reply": "2021-09-25T16:33:12.516166Z"
    },
    "trusted": true
   },
   "execution_count": null,
   "outputs": []
  },
  {
   "cell_type": "code",
   "source": "X_train, X_test, y_train, y_test = train_test_split(x_std,y,random_state=42,test_size=0.25)",
   "metadata": {
    "execution": {
     "iopub.status.busy": "2021-09-25T16:33:12.51781Z",
     "iopub.execute_input": "2021-09-25T16:33:12.51825Z",
     "iopub.status.idle": "2021-09-25T16:33:12.525271Z",
     "shell.execute_reply.started": "2021-09-25T16:33:12.518212Z",
     "shell.execute_reply": "2021-09-25T16:33:12.524583Z"
    },
    "trusted": true
   },
   "execution_count": null,
   "outputs": []
  },
  {
   "cell_type": "code",
   "source": "X_train.head()",
   "metadata": {
    "execution": {
     "iopub.status.busy": "2021-09-25T16:33:12.526567Z",
     "iopub.execute_input": "2021-09-25T16:33:12.527173Z",
     "iopub.status.idle": "2021-09-25T16:33:12.543047Z",
     "shell.execute_reply.started": "2021-09-25T16:33:12.52714Z",
     "shell.execute_reply": "2021-09-25T16:33:12.542213Z"
    },
    "trusted": true
   },
   "execution_count": null,
   "outputs": []
  },
  {
   "cell_type": "code",
   "source": "lr_model = LinearRegression(n_jobs=-1)",
   "metadata": {
    "execution": {
     "iopub.status.busy": "2021-09-25T16:33:12.544335Z",
     "iopub.execute_input": "2021-09-25T16:33:12.544816Z",
     "iopub.status.idle": "2021-09-25T16:33:12.554552Z",
     "shell.execute_reply.started": "2021-09-25T16:33:12.544777Z",
     "shell.execute_reply": "2021-09-25T16:33:12.553659Z"
    },
    "trusted": true
   },
   "execution_count": null,
   "outputs": []
  },
  {
   "cell_type": "code",
   "source": "lr_model.fit(X_train,y_train)",
   "metadata": {
    "execution": {
     "iopub.status.busy": "2021-09-25T16:33:12.55595Z",
     "iopub.execute_input": "2021-09-25T16:33:12.556239Z",
     "iopub.status.idle": "2021-09-25T16:33:12.572758Z",
     "shell.execute_reply.started": "2021-09-25T16:33:12.556208Z",
     "shell.execute_reply": "2021-09-25T16:33:12.572058Z"
    },
    "trusted": true
   },
   "execution_count": null,
   "outputs": []
  },
  {
   "cell_type": "code",
   "source": "y_pred = lr_model.predict(X_test)",
   "metadata": {
    "execution": {
     "iopub.status.busy": "2021-09-25T16:33:12.574108Z",
     "iopub.execute_input": "2021-09-25T16:33:12.575105Z",
     "iopub.status.idle": "2021-09-25T16:33:12.5824Z",
     "shell.execute_reply.started": "2021-09-25T16:33:12.57507Z",
     "shell.execute_reply": "2021-09-25T16:33:12.581356Z"
    },
    "trusted": true
   },
   "execution_count": null,
   "outputs": []
  },
  {
   "cell_type": "code",
   "source": "from sklearn import metrics",
   "metadata": {
    "execution": {
     "iopub.status.busy": "2021-09-25T16:33:12.583578Z",
     "iopub.execute_input": "2021-09-25T16:33:12.583825Z",
     "iopub.status.idle": "2021-09-25T16:33:12.59276Z",
     "shell.execute_reply.started": "2021-09-25T16:33:12.583798Z",
     "shell.execute_reply": "2021-09-25T16:33:12.591921Z"
    },
    "trusted": true
   },
   "execution_count": null,
   "outputs": []
  },
  {
   "cell_type": "code",
   "source": "print(\"MAE = \", metrics.mean_absolute_error(y_test,y_pred))",
   "metadata": {
    "execution": {
     "iopub.status.busy": "2021-09-25T16:33:12.593955Z",
     "iopub.execute_input": "2021-09-25T16:33:12.59437Z",
     "iopub.status.idle": "2021-09-25T16:33:12.605623Z",
     "shell.execute_reply.started": "2021-09-25T16:33:12.59434Z",
     "shell.execute_reply": "2021-09-25T16:33:12.604915Z"
    },
    "trusted": true
   },
   "execution_count": null,
   "outputs": []
  },
  {
   "cell_type": "code",
   "source": "print(\"Score = \", lr_model.score(X_test,y_test))\n# lr_model.score()",
   "metadata": {
    "execution": {
     "iopub.status.busy": "2021-09-25T16:33:12.606807Z",
     "iopub.execute_input": "2021-09-25T16:33:12.607106Z",
     "iopub.status.idle": "2021-09-25T16:33:12.620744Z",
     "shell.execute_reply.started": "2021-09-25T16:33:12.607079Z",
     "shell.execute_reply": "2021-09-25T16:33:12.619873Z"
    },
    "trusted": true
   },
   "execution_count": null,
   "outputs": []
  },
  {
   "cell_type": "code",
   "source": "def adj_r2(model,x,y):\n    r2 = model.score(x,y)  # r-squared value\n    n  = x.shape[0]     # Number of rows\n    p  = x.shape[1]     # Number of features\n    adjusted_r2 = 1 - (1-r2)*(n-1)/(n-p-1)\n    return adjusted_r2",
   "metadata": {
    "execution": {
     "iopub.status.busy": "2021-09-25T16:33:12.622234Z",
     "iopub.execute_input": "2021-09-25T16:33:12.622676Z",
     "iopub.status.idle": "2021-09-25T16:33:12.631469Z",
     "shell.execute_reply.started": "2021-09-25T16:33:12.622627Z",
     "shell.execute_reply": "2021-09-25T16:33:12.630722Z"
    },
    "trusted": true
   },
   "execution_count": null,
   "outputs": []
  },
  {
   "cell_type": "code",
   "source": "adj_r2(lr_model, X_test, y_test)",
   "metadata": {
    "execution": {
     "iopub.status.busy": "2021-09-25T16:33:12.632711Z",
     "iopub.execute_input": "2021-09-25T16:33:12.633596Z",
     "iopub.status.idle": "2021-09-25T16:33:12.647072Z",
     "shell.execute_reply.started": "2021-09-25T16:33:12.633552Z",
     "shell.execute_reply": "2021-09-25T16:33:12.64615Z"
    },
    "trusted": true
   },
   "execution_count": null,
   "outputs": []
  },
  {
   "cell_type": "code",
   "source": "lassocv = LassoCV(cv=20,\n                 max_iter=1000,\n                 normalize=True)",
   "metadata": {
    "execution": {
     "iopub.status.busy": "2021-09-25T16:33:12.64836Z",
     "iopub.execute_input": "2021-09-25T16:33:12.648773Z",
     "iopub.status.idle": "2021-09-25T16:33:12.653191Z",
     "shell.execute_reply.started": "2021-09-25T16:33:12.64874Z",
     "shell.execute_reply": "2021-09-25T16:33:12.652541Z"
    },
    "trusted": true
   },
   "execution_count": null,
   "outputs": []
  },
  {
   "cell_type": "code",
   "source": "lassocv.fit(X_train, y_train)",
   "metadata": {
    "execution": {
     "iopub.status.busy": "2021-09-25T16:33:12.654196Z",
     "iopub.execute_input": "2021-09-25T16:33:12.654551Z",
     "iopub.status.idle": "2021-09-25T16:33:12.888919Z",
     "shell.execute_reply.started": "2021-09-25T16:33:12.654522Z",
     "shell.execute_reply": "2021-09-25T16:33:12.888053Z"
    },
    "trusted": true
   },
   "execution_count": null,
   "outputs": []
  },
  {
   "cell_type": "code",
   "source": "lassocv.alpha_",
   "metadata": {
    "execution": {
     "iopub.status.busy": "2021-09-25T16:33:12.890181Z",
     "iopub.execute_input": "2021-09-25T16:33:12.891071Z",
     "iopub.status.idle": "2021-09-25T16:33:12.896936Z",
     "shell.execute_reply.started": "2021-09-25T16:33:12.891034Z",
     "shell.execute_reply": "2021-09-25T16:33:12.896027Z"
    },
    "trusted": true
   },
   "execution_count": null,
   "outputs": []
  },
  {
   "cell_type": "code",
   "source": "lasso_model = Lasso(alpha=lassocv.alpha_)",
   "metadata": {
    "execution": {
     "iopub.status.busy": "2021-09-25T16:33:12.898322Z",
     "iopub.execute_input": "2021-09-25T16:33:12.898545Z",
     "iopub.status.idle": "2021-09-25T16:33:12.906742Z",
     "shell.execute_reply.started": "2021-09-25T16:33:12.898522Z",
     "shell.execute_reply": "2021-09-25T16:33:12.905921Z"
    },
    "trusted": true
   },
   "execution_count": null,
   "outputs": []
  },
  {
   "cell_type": "code",
   "source": "lasso_model.fit(X_train,y_train)",
   "metadata": {
    "execution": {
     "iopub.status.busy": "2021-09-25T16:33:12.910181Z",
     "iopub.execute_input": "2021-09-25T16:33:12.910387Z",
     "iopub.status.idle": "2021-09-25T16:33:12.922074Z",
     "shell.execute_reply.started": "2021-09-25T16:33:12.910364Z",
     "shell.execute_reply": "2021-09-25T16:33:12.921506Z"
    },
    "trusted": true
   },
   "execution_count": null,
   "outputs": []
  },
  {
   "cell_type": "code",
   "source": "lasso_model.score(X_test,y_test)",
   "metadata": {
    "execution": {
     "iopub.status.busy": "2021-09-25T16:33:12.923134Z",
     "iopub.execute_input": "2021-09-25T16:33:12.923502Z",
     "iopub.status.idle": "2021-09-25T16:33:12.934537Z",
     "shell.execute_reply.started": "2021-09-25T16:33:12.923475Z",
     "shell.execute_reply": "2021-09-25T16:33:12.934003Z"
    },
    "trusted": true
   },
   "execution_count": null,
   "outputs": []
  },
  {
   "cell_type": "code",
   "source": "ridge_cv = RidgeCV(alphas=np.random.uniform(0,10,50),\n                   cv = 10,\n                   normalize = True)",
   "metadata": {
    "execution": {
     "iopub.status.busy": "2021-09-25T16:33:12.935401Z",
     "iopub.execute_input": "2021-09-25T16:33:12.936199Z",
     "iopub.status.idle": "2021-09-25T16:33:12.946091Z",
     "shell.execute_reply.started": "2021-09-25T16:33:12.936148Z",
     "shell.execute_reply": "2021-09-25T16:33:12.945527Z"
    },
    "trusted": true
   },
   "execution_count": null,
   "outputs": []
  },
  {
   "cell_type": "code",
   "source": "ridge_cv.fit(X_train, y_train)\nridge_cv.alpha_",
   "metadata": {
    "execution": {
     "iopub.status.busy": "2021-09-25T16:33:12.946929Z",
     "iopub.execute_input": "2021-09-25T16:33:12.947602Z",
     "iopub.status.idle": "2021-09-25T16:33:16.071754Z",
     "shell.execute_reply.started": "2021-09-25T16:33:12.947569Z",
     "shell.execute_reply": "2021-09-25T16:33:16.070994Z"
    },
    "trusted": true
   },
   "execution_count": null,
   "outputs": []
  },
  {
   "cell_type": "code",
   "source": "ridge_model = Ridge(alpha=ridge_cv.alpha_,\n                   random_state=42)\nridge_model.fit(X_train,y_train)",
   "metadata": {
    "execution": {
     "iopub.status.busy": "2021-09-25T16:33:16.073032Z",
     "iopub.execute_input": "2021-09-25T16:33:16.073254Z",
     "iopub.status.idle": "2021-09-25T16:33:16.082631Z",
     "shell.execute_reply.started": "2021-09-25T16:33:16.073229Z",
     "shell.execute_reply": "2021-09-25T16:33:16.081972Z"
    },
    "trusted": true
   },
   "execution_count": null,
   "outputs": []
  },
  {
   "cell_type": "code",
   "source": "ridge_model.score(X_test, y_test)",
   "metadata": {
    "execution": {
     "iopub.status.busy": "2021-09-25T16:33:16.083632Z",
     "iopub.execute_input": "2021-09-25T16:33:16.084169Z",
     "iopub.status.idle": "2021-09-25T16:33:16.096521Z",
     "shell.execute_reply.started": "2021-09-25T16:33:16.084111Z",
     "shell.execute_reply": "2021-09-25T16:33:16.095586Z"
    },
    "trusted": true
   },
   "execution_count": null,
   "outputs": []
  },
  {
   "cell_type": "code",
   "source": "elasticnet_cv = ElasticNetCV(cv=20)\nelasticnet_cv.fit(X_train,y_train)\nelasticnet_cv.alpha_",
   "metadata": {
    "execution": {
     "iopub.status.busy": "2021-09-25T16:33:16.097806Z",
     "iopub.execute_input": "2021-09-25T16:33:16.09861Z",
     "iopub.status.idle": "2021-09-25T16:33:16.331311Z",
     "shell.execute_reply.started": "2021-09-25T16:33:16.09857Z",
     "shell.execute_reply": "2021-09-25T16:33:16.330753Z"
    },
    "trusted": true
   },
   "execution_count": null,
   "outputs": []
  },
  {
   "cell_type": "code",
   "source": "elasticnet_cv.l1_ratio",
   "metadata": {
    "execution": {
     "iopub.status.busy": "2021-09-25T16:33:16.332229Z",
     "iopub.execute_input": "2021-09-25T16:33:16.332924Z",
     "iopub.status.idle": "2021-09-25T16:33:16.340473Z",
     "shell.execute_reply.started": "2021-09-25T16:33:16.332877Z",
     "shell.execute_reply": "2021-09-25T16:33:16.339625Z"
    },
    "trusted": true
   },
   "execution_count": null,
   "outputs": []
  },
  {
   "cell_type": "code",
   "source": "elastic = ElasticNet(alpha=elasticnet_cv.alpha_,\n                    l1_ratio=elasticnet_cv.l1_ratio,\n                    #normalize=True,\n                    random_state=42)\nelastic.fit(X_train,y_train)\nelastic.score(X_test,y_test)",
   "metadata": {
    "execution": {
     "iopub.status.busy": "2021-09-25T16:33:16.341574Z",
     "iopub.execute_input": "2021-09-25T16:33:16.341869Z",
     "iopub.status.idle": "2021-09-25T16:33:16.360836Z",
     "shell.execute_reply.started": "2021-09-25T16:33:16.341816Z",
     "shell.execute_reply": "2021-09-25T16:33:16.359946Z"
    },
    "trusted": true
   },
   "execution_count": null,
   "outputs": []
  },
  {
   "cell_type": "code",
   "source": "X_to_predict = [[337.0, 118.0, 2.0, 4.0, 3.0, 9.65, 1]]\nX_to_predict = sc.fit_transform(X_to_predict)\nprint(X_to_predict[0])\nprint(elastic.predict(X_to_predict))",
   "metadata": {
    "execution": {
     "iopub.status.busy": "2021-09-25T16:33:16.361934Z",
     "iopub.execute_input": "2021-09-25T16:33:16.363959Z",
     "iopub.status.idle": "2021-09-25T16:33:16.372264Z",
     "shell.execute_reply.started": "2021-09-25T16:33:16.363919Z",
     "shell.execute_reply": "2021-09-25T16:33:16.371147Z"
    },
    "trusted": true
   },
   "execution_count": null,
   "outputs": []
  },
  {
   "cell_type": "code",
   "source": "pickle.dump(lr_model,open(\"admis_pred_model.pickle\",'wb'))",
   "metadata": {
    "execution": {
     "iopub.status.busy": "2021-09-25T16:33:16.373595Z",
     "iopub.execute_input": "2021-09-25T16:33:16.373893Z",
     "iopub.status.idle": "2021-09-25T16:33:16.380668Z",
     "shell.execute_reply.started": "2021-09-25T16:33:16.373777Z",
     "shell.execute_reply": "2021-09-25T16:33:16.37981Z"
    },
    "trusted": true
   },
   "execution_count": null,
   "outputs": []
  },
  {
   "cell_type": "code",
   "source": "!ls",
   "metadata": {
    "execution": {
     "iopub.status.busy": "2021-09-25T16:33:16.381593Z",
     "iopub.execute_input": "2021-09-25T16:33:16.382034Z",
     "iopub.status.idle": "2021-09-25T16:33:17.142583Z",
     "shell.execute_reply.started": "2021-09-25T16:33:16.381999Z",
     "shell.execute_reply": "2021-09-25T16:33:17.141667Z"
    },
    "trusted": true
   },
   "execution_count": null,
   "outputs": []
  },
  {
   "cell_type": "markdown",
   "source": "",
   "metadata": {}
  },
  {
   "cell_type": "code",
   "source": "",
   "metadata": {},
   "execution_count": null,
   "outputs": []
  },
  {
   "cell_type": "code",
   "source": "",
   "metadata": {},
   "execution_count": null,
   "outputs": []
  },
  {
   "cell_type": "code",
   "source": "",
   "metadata": {},
   "execution_count": null,
   "outputs": []
  },
  {
   "cell_type": "code",
   "source": "",
   "metadata": {},
   "execution_count": null,
   "outputs": []
  }
 ]
}